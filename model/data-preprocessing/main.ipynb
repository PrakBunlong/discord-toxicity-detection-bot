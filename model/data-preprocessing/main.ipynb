{
 "cells": [
  {
   "cell_type": "code",
   "execution_count": 116,
   "id": "b448711b-7ce3-43ab-9e17-be654ac49601",
   "metadata": {},
   "outputs": [],
   "source": [
    "import pandas as pd"
   ]
  },
  {
   "cell_type": "code",
   "execution_count": 117,
   "id": "7cc09a84-7736-400d-8a23-dd904b41e7df",
   "metadata": {},
   "outputs": [],
   "source": [
    "train_1 = pd.read_csv(\"../dataset/unprocessed/jigsaw-toxic-comment-classification-challenge/train.csv\")\n",
    "train_2 = pd.read_csv(\"../dataset/unprocessed/jigsaw-unintended-bias-in-toxicity-classification/train.csv\")"
   ]
  },
  {
   "cell_type": "code",
   "execution_count": 118,
   "id": "1a1b5ae4-114f-4207-9817-7979a804b30e",
   "metadata": {},
   "outputs": [],
   "source": [
    "test_1 = pd.read_csv(\"../dataset/unprocessed/jigsaw-toxic-comment-classification-challenge/test.csv\")\n",
    "test_2 = pd.read_csv(\"../dataset/unprocessed/jigsaw-unintended-bias-in-toxicity-classification/test.csv\")"
   ]
  },
  {
   "cell_type": "code",
   "execution_count": 119,
   "id": "c761cf5d-4b16-4a43-a154-55c76f947e47",
   "metadata": {},
   "outputs": [
    {
     "data": {
      "text/plain": [
       "(159571, 8)"
      ]
     },
     "execution_count": 119,
     "metadata": {},
     "output_type": "execute_result"
    }
   ],
   "source": [
    "train_1.shape"
   ]
  },
  {
   "cell_type": "code",
   "execution_count": 120,
   "id": "abf3a2c8-6aa1-405a-a864-bff31e3cdaa7",
   "metadata": {},
   "outputs": [
    {
     "data": {
      "text/plain": [
       "(153164, 2)"
      ]
     },
     "execution_count": 120,
     "metadata": {},
     "output_type": "execute_result"
    }
   ],
   "source": [
    "test_1.shape"
   ]
  },
  {
   "cell_type": "code",
   "execution_count": 121,
   "id": "391dd0db-8727-4b40-8d27-dcdd16292c95",
   "metadata": {},
   "outputs": [
    {
     "data": {
      "text/plain": [
       "(97320, 2)"
      ]
     },
     "execution_count": 121,
     "metadata": {},
     "output_type": "execute_result"
    }
   ],
   "source": [
    "test_2.shape"
   ]
  },
  {
   "cell_type": "markdown",
   "id": "c4665746-b4ab-4c47-8bf2-bfdf72adca32",
   "metadata": {},
   "source": [
    "### Add is_toxic feature and remove unnecessary columns from train_1"
   ]
  },
  {
   "cell_type": "code",
   "execution_count": 122,
   "id": "7ace6159-49f8-40dc-adb6-bcc467641d6d",
   "metadata": {},
   "outputs": [],
   "source": [
    "def label_is_toxic(row):\n",
    "    if row[\"toxic\"] == 1 or row[\"severe_toxic\"] == 1 or row[\"obscene\"] == 1 or row[\"threat\"] == 1 or row[\"insult\"] == 1 or row[\"identity_hate\"] == 1:\n",
    "        return 1\n",
    "    return 0"
   ]
  },
  {
   "cell_type": "code",
   "execution_count": 123,
   "id": "429f640c-2cbb-4c06-84a7-428733a74e97",
   "metadata": {},
   "outputs": [],
   "source": [
    "train_1[\"is_toxic\"] = train_1.apply(label_is_toxic, axis=1)"
   ]
  },
  {
   "cell_type": "code",
   "execution_count": 124,
   "id": "72866555-16c0-4dbd-8cd6-632e3090f604",
   "metadata": {},
   "outputs": [
    {
     "data": {
      "text/html": [
       "<div>\n",
       "<style scoped>\n",
       "    .dataframe tbody tr th:only-of-type {\n",
       "        vertical-align: middle;\n",
       "    }\n",
       "\n",
       "    .dataframe tbody tr th {\n",
       "        vertical-align: top;\n",
       "    }\n",
       "\n",
       "    .dataframe thead th {\n",
       "        text-align: right;\n",
       "    }\n",
       "</style>\n",
       "<table border=\"1\" class=\"dataframe\">\n",
       "  <thead>\n",
       "    <tr style=\"text-align: right;\">\n",
       "      <th></th>\n",
       "      <th>id</th>\n",
       "      <th>comment_text</th>\n",
       "      <th>is_toxic</th>\n",
       "    </tr>\n",
       "  </thead>\n",
       "  <tbody>\n",
       "    <tr>\n",
       "      <th>0</th>\n",
       "      <td>0000997932d777bf</td>\n",
       "      <td>Explanation\\nWhy the edits made under my usern...</td>\n",
       "      <td>0</td>\n",
       "    </tr>\n",
       "    <tr>\n",
       "      <th>1</th>\n",
       "      <td>000103f0d9cfb60f</td>\n",
       "      <td>D'aww! He matches this background colour I'm s...</td>\n",
       "      <td>0</td>\n",
       "    </tr>\n",
       "    <tr>\n",
       "      <th>2</th>\n",
       "      <td>000113f07ec002fd</td>\n",
       "      <td>Hey man, I'm really not trying to edit war. It...</td>\n",
       "      <td>0</td>\n",
       "    </tr>\n",
       "    <tr>\n",
       "      <th>3</th>\n",
       "      <td>0001b41b1c6bb37e</td>\n",
       "      <td>\"\\nMore\\nI can't make any real suggestions on ...</td>\n",
       "      <td>0</td>\n",
       "    </tr>\n",
       "    <tr>\n",
       "      <th>4</th>\n",
       "      <td>0001d958c54c6e35</td>\n",
       "      <td>You, sir, are my hero. Any chance you remember...</td>\n",
       "      <td>0</td>\n",
       "    </tr>\n",
       "  </tbody>\n",
       "</table>\n",
       "</div>"
      ],
      "text/plain": [
       "                 id                                       comment_text  \\\n",
       "0  0000997932d777bf  Explanation\\nWhy the edits made under my usern...   \n",
       "1  000103f0d9cfb60f  D'aww! He matches this background colour I'm s...   \n",
       "2  000113f07ec002fd  Hey man, I'm really not trying to edit war. It...   \n",
       "3  0001b41b1c6bb37e  \"\\nMore\\nI can't make any real suggestions on ...   \n",
       "4  0001d958c54c6e35  You, sir, are my hero. Any chance you remember...   \n",
       "\n",
       "   is_toxic  \n",
       "0         0  \n",
       "1         0  \n",
       "2         0  \n",
       "3         0  \n",
       "4         0  "
      ]
     },
     "execution_count": 124,
     "metadata": {},
     "output_type": "execute_result"
    }
   ],
   "source": [
    "train_1 = train_1.loc[:, [\"id\", \"comment_text\", \"is_toxic\"]]\n",
    "train_1.head()"
   ]
  },
  {
   "cell_type": "markdown",
   "id": "c33440c6-6f6d-410c-b9c0-ea9ca9db3861",
   "metadata": {},
   "source": [
    "### Add is_toxic feature and remove unnecessary columns from train_2"
   ]
  },
  {
   "cell_type": "code",
   "execution_count": 125,
   "id": "b821b65f-7453-4bf9-9f7f-dc51b1691acf",
   "metadata": {},
   "outputs": [],
   "source": [
    "train_2[\"is_toxic\"] = train_2[\"target\"].apply(lambda x: 1 if x >= 0.5 else 0)"
   ]
  },
  {
   "cell_type": "code",
   "execution_count": 126,
   "id": "38d24a0a-eb26-4f20-b97b-43e1b82f0d09",
   "metadata": {},
   "outputs": [
    {
     "data": {
      "text/html": [
       "<div>\n",
       "<style scoped>\n",
       "    .dataframe tbody tr th:only-of-type {\n",
       "        vertical-align: middle;\n",
       "    }\n",
       "\n",
       "    .dataframe tbody tr th {\n",
       "        vertical-align: top;\n",
       "    }\n",
       "\n",
       "    .dataframe thead th {\n",
       "        text-align: right;\n",
       "    }\n",
       "</style>\n",
       "<table border=\"1\" class=\"dataframe\">\n",
       "  <thead>\n",
       "    <tr style=\"text-align: right;\">\n",
       "      <th></th>\n",
       "      <th>id</th>\n",
       "      <th>comment_text</th>\n",
       "      <th>is_toxic</th>\n",
       "    </tr>\n",
       "  </thead>\n",
       "  <tbody>\n",
       "    <tr>\n",
       "      <th>0</th>\n",
       "      <td>59848</td>\n",
       "      <td>This is so cool. It's like, 'would you want yo...</td>\n",
       "      <td>0</td>\n",
       "    </tr>\n",
       "    <tr>\n",
       "      <th>1</th>\n",
       "      <td>59849</td>\n",
       "      <td>Thank you!! This would make my life a lot less...</td>\n",
       "      <td>0</td>\n",
       "    </tr>\n",
       "    <tr>\n",
       "      <th>2</th>\n",
       "      <td>59852</td>\n",
       "      <td>This is such an urgent design problem; kudos t...</td>\n",
       "      <td>0</td>\n",
       "    </tr>\n",
       "    <tr>\n",
       "      <th>3</th>\n",
       "      <td>59855</td>\n",
       "      <td>Is this something I'll be able to install on m...</td>\n",
       "      <td>0</td>\n",
       "    </tr>\n",
       "    <tr>\n",
       "      <th>4</th>\n",
       "      <td>59856</td>\n",
       "      <td>haha you guys are a bunch of losers.</td>\n",
       "      <td>1</td>\n",
       "    </tr>\n",
       "  </tbody>\n",
       "</table>\n",
       "</div>"
      ],
      "text/plain": [
       "      id                                       comment_text  is_toxic\n",
       "0  59848  This is so cool. It's like, 'would you want yo...         0\n",
       "1  59849  Thank you!! This would make my life a lot less...         0\n",
       "2  59852  This is such an urgent design problem; kudos t...         0\n",
       "3  59855  Is this something I'll be able to install on m...         0\n",
       "4  59856               haha you guys are a bunch of losers.         1"
      ]
     },
     "execution_count": 126,
     "metadata": {},
     "output_type": "execute_result"
    }
   ],
   "source": [
    "train_2 = train_2.loc[:, [\"id\", \"comment_text\", \"is_toxic\"]]\n",
    "train_2.head()"
   ]
  },
  {
   "cell_type": "markdown",
   "id": "e36640e9-5b7f-4a36-95c4-ccd35deb47be",
   "metadata": {},
   "source": [
    "### Add train_2 to train_1, test_2 to test_1, and ignore duplicate data"
   ]
  },
  {
   "cell_type": "code",
   "execution_count": 127,
   "id": "ed12d3cc-f1fd-4b9e-b404-bd2f36c8fca1",
   "metadata": {},
   "outputs": [],
   "source": [
    "def merge(ds1, ds2):\n",
    "    # Create a set of all unique comment_texts in ds2\n",
    "    ds2_comments_set = set(ds2[\"comment_text\"].str.strip())\n",
    "\n",
    "    # Create a boolean mask for rows in ds2 that should be added to ds1\n",
    "    mask = ~ds2[\"comment_text\"].str.strip().isin(ds1[\"comment_text\"].str.strip())\n",
    "\n",
    "    # Filter rows from ds2 that are not in ds1\n",
    "    rows_to_add = ds2[mask]\n",
    "\n",
    "    # Concatenate the rows_to_add to ds1\n",
    "    ds1 = pd.concat([rows_to_add, ds1], ignore_index=True)\n",
    "\n",
    "    return ds1"
   ]
  },
  {
   "cell_type": "code",
   "execution_count": 128,
   "id": "a5a9ccf4-4469-4ea0-b915-b75da8e3b735",
   "metadata": {},
   "outputs": [
    {
     "data": {
      "text/plain": [
       "(1964294, 3)"
      ]
     },
     "execution_count": 128,
     "metadata": {},
     "output_type": "execute_result"
    }
   ],
   "source": [
    "train_1 = merge(train_1, train_2)\n",
    "train_1.shape"
   ]
  },
  {
   "cell_type": "code",
   "execution_count": 129,
   "id": "f06ae868-c6d9-4dea-9d68-0fd1dbd74bec",
   "metadata": {},
   "outputs": [
    {
     "data": {
      "text/plain": [
       "(250441, 2)"
      ]
     },
     "execution_count": 129,
     "metadata": {},
     "output_type": "execute_result"
    }
   ],
   "source": [
    "test_1 = merge(test_1, test_2)\n",
    "test_1.shape"
   ]
  },
  {
   "cell_type": "markdown",
   "id": "ca9c05be-84b7-4df7-b6c4-46926bc39bc5",
   "metadata": {},
   "source": [
    "### update the name of train and test datasets"
   ]
  },
  {
   "cell_type": "code",
   "execution_count": 130,
   "id": "544812ed-67e7-41d7-88f9-3720f1860ef9",
   "metadata": {},
   "outputs": [],
   "source": [
    "train = train_1\n",
    "test = test_1"
   ]
  },
  {
   "cell_type": "markdown",
   "id": "4c709131-47ac-42de-82be-8abe4f63e077",
   "metadata": {},
   "source": [
    "### Make sure comment_text is lowercase"
   ]
  },
  {
   "cell_type": "code",
   "execution_count": 131,
   "id": "26b405ef-6e28-4478-a099-abc780a51d06",
   "metadata": {},
   "outputs": [],
   "source": [
    "train.loc[:, \"comment_text\"] = train[\"comment_text\"].str.lower()\n",
    "test.loc[:, \"comment_text\"] = test[\"comment_text\"].str.lower()"
   ]
  },
  {
   "cell_type": "markdown",
   "id": "234d0c22-c964-406e-8885-ca067cc067ad",
   "metadata": {},
   "source": [
    "### Drop any row that comment_text is empty"
   ]
  },
  {
   "cell_type": "code",
   "execution_count": 132,
   "id": "702a2f87-5d61-43cb-9b47-585f89c832b1",
   "metadata": {},
   "outputs": [],
   "source": [
    "train = train.dropna(subset=\"comment_text\", how='any',axis=0)"
   ]
  },
  {
   "cell_type": "markdown",
   "id": "2270423d-ee7c-44dc-8d5f-1c0ec78b39ff",
   "metadata": {},
   "source": [
    "### Replacing contractions"
   ]
  },
  {
   "cell_type": "code",
   "execution_count": 133,
   "id": "aba966ec-e97a-4fe3-b793-8e797a4b469f",
   "metadata": {},
   "outputs": [],
   "source": [
    "import contractions"
   ]
  },
  {
   "cell_type": "code",
   "execution_count": 134,
   "id": "750de685-34ef-466c-8b96-3977c57a72da",
   "metadata": {},
   "outputs": [],
   "source": [
    "train.loc[:, \"comment_text\"] = train[\"comment_text\"].apply(lambda x: contractions.fix(str(x)))\n",
    "test.loc[:, \"comment_text\"] = test[\"comment_text\"].apply(lambda x: contractions.fix(str(x)))"
   ]
  },
  {
   "cell_type": "code",
   "execution_count": 135,
   "id": "22c1b49e-5c58-4865-a799-d75a5e87dbe2",
   "metadata": {},
   "outputs": [
    {
     "data": {
      "text/html": [
       "<div>\n",
       "<style scoped>\n",
       "    .dataframe tbody tr th:only-of-type {\n",
       "        vertical-align: middle;\n",
       "    }\n",
       "\n",
       "    .dataframe tbody tr th {\n",
       "        vertical-align: top;\n",
       "    }\n",
       "\n",
       "    .dataframe thead th {\n",
       "        text-align: right;\n",
       "    }\n",
       "</style>\n",
       "<table border=\"1\" class=\"dataframe\">\n",
       "  <thead>\n",
       "    <tr style=\"text-align: right;\">\n",
       "      <th></th>\n",
       "      <th>id</th>\n",
       "      <th>comment_text</th>\n",
       "      <th>is_toxic</th>\n",
       "    </tr>\n",
       "  </thead>\n",
       "  <tbody>\n",
       "    <tr>\n",
       "      <th>0</th>\n",
       "      <td>59848</td>\n",
       "      <td>this is so cool. it is like, 'would you want y...</td>\n",
       "      <td>0</td>\n",
       "    </tr>\n",
       "    <tr>\n",
       "      <th>1</th>\n",
       "      <td>59849</td>\n",
       "      <td>thank you!! this would make my life a lot less...</td>\n",
       "      <td>0</td>\n",
       "    </tr>\n",
       "    <tr>\n",
       "      <th>2</th>\n",
       "      <td>59852</td>\n",
       "      <td>this is such an urgent design problem; kudos t...</td>\n",
       "      <td>0</td>\n",
       "    </tr>\n",
       "    <tr>\n",
       "      <th>3</th>\n",
       "      <td>59855</td>\n",
       "      <td>is this something i will be able to install on...</td>\n",
       "      <td>0</td>\n",
       "    </tr>\n",
       "    <tr>\n",
       "      <th>4</th>\n",
       "      <td>59856</td>\n",
       "      <td>haha you guys are a bunch of losers.</td>\n",
       "      <td>1</td>\n",
       "    </tr>\n",
       "  </tbody>\n",
       "</table>\n",
       "</div>"
      ],
      "text/plain": [
       "      id                                       comment_text  is_toxic\n",
       "0  59848  this is so cool. it is like, 'would you want y...         0\n",
       "1  59849  thank you!! this would make my life a lot less...         0\n",
       "2  59852  this is such an urgent design problem; kudos t...         0\n",
       "3  59855  is this something i will be able to install on...         0\n",
       "4  59856               haha you guys are a bunch of losers.         1"
      ]
     },
     "execution_count": 135,
     "metadata": {},
     "output_type": "execute_result"
    }
   ],
   "source": [
    "train.head()"
   ]
  },
  {
   "cell_type": "markdown",
   "id": "740e7455-786e-4924-abc7-afc7065d2b84",
   "metadata": {},
   "source": [
    "### Removing URLs"
   ]
  },
  {
   "cell_type": "code",
   "execution_count": 136,
   "id": "ee15898a-c7ec-4a85-909b-1501a0e3495f",
   "metadata": {},
   "outputs": [],
   "source": [
    "import re"
   ]
  },
  {
   "cell_type": "code",
   "execution_count": 137,
   "id": "48669e7d-7077-41a3-bb19-5963adb793e0",
   "metadata": {},
   "outputs": [],
   "source": [
    "def remove_URL(text):\n",
    "    \"\"\"\n",
    "        Remove URLs from a sample string\n",
    "    \"\"\"\n",
    "    return re.sub(r\"https?://\\S+|www\\.\\S+\", \"\", text)"
   ]
  },
  {
   "cell_type": "code",
   "execution_count": 138,
   "id": "eed9b349-72ab-43de-8931-59e742b95610",
   "metadata": {},
   "outputs": [],
   "source": [
    "train.loc[:, \"comment_text\"] = train[\"comment_text\"].apply(lambda x: remove_URL(x))\n",
    "test.loc[:, \"comment_text\"] = test[\"comment_text\"].apply(lambda x: remove_URL(x))"
   ]
  },
  {
   "cell_type": "markdown",
   "id": "c9dc4d84-2742-405d-90f0-cc0543fa439a",
   "metadata": {},
   "source": [
    "### Removing HTML Tags"
   ]
  },
  {
   "cell_type": "code",
   "execution_count": 139,
   "id": "84874582-024c-4b3d-bb4b-e721b1b7e813",
   "metadata": {},
   "outputs": [],
   "source": [
    "def remove_html(text):\n",
    "    \"\"\"\n",
    "        Remove the html in sample text\n",
    "    \"\"\"\n",
    "    html = re.compile(r\"<.*?>|&([a-z0-9]+|#[0-9]{1,6}|#x[0-9a-f]{1,6});\")\n",
    "    return re.sub(html, \"\", text)"
   ]
  },
  {
   "cell_type": "code",
   "execution_count": 140,
   "id": "2dbb97c0-6439-461e-90be-5a0d8fb0aa7a",
   "metadata": {},
   "outputs": [],
   "source": [
    "train.loc[:, \"comment_text\"] = train[\"comment_text\"].apply(lambda x: remove_html(x))\n",
    "test.loc[:, \"comment_text\"] = test[\"comment_text\"].apply(lambda x: remove_html(x))"
   ]
  },
  {
   "cell_type": "markdown",
   "id": "c0048b9f-f4ce-472e-9efe-966016e3d678",
   "metadata": {},
   "source": [
    "### Remove non-ascii characters (since we are only concerned with English, and basic "
   ]
  },
  {
   "cell_type": "code",
   "execution_count": 141,
   "id": "7eaad8b0-b180-4047-a555-0a5ed03ee630",
   "metadata": {},
   "outputs": [],
   "source": [
    "def remove_non_ascii(text):\n",
    "    \"\"\"\n",
    "        Remove non-ASCII characters\n",
    "    \"\"\"\n",
    "    return re.sub(r'[^\\x00-\\x7f]',r'', text)"
   ]
  },
  {
   "cell_type": "code",
   "execution_count": 142,
   "id": "752a487b-1bd1-41e4-aa6b-d635299e3195",
   "metadata": {},
   "outputs": [],
   "source": [
    "train.loc[:, \"comment_text\"] = train[\"comment_text\"].apply(lambda x: remove_non_ascii(x))\n",
    "test.loc[:, \"comment_text\"] = test[\"comment_text\"].apply(lambda x: remove_non_ascii(x))"
   ]
  },
  {
   "cell_type": "code",
   "execution_count": null,
   "id": "fa88f3a5-28f2-41f1-98d5-8fd19c624198",
   "metadata": {},
   "outputs": [],
   "source": []
  },
  {
   "cell_type": "code",
   "execution_count": null,
   "id": "4ff5b456-5b7d-4d5f-93be-d17a72688d74",
   "metadata": {},
   "outputs": [],
   "source": []
  },
  {
   "cell_type": "code",
   "execution_count": null,
   "id": "951e19d0-a9f5-4995-8d3f-4429040c51ab",
   "metadata": {},
   "outputs": [],
   "source": []
  },
  {
   "cell_type": "code",
   "execution_count": null,
   "id": "c4439d0e-317c-42f6-b78f-b32d5877b68e",
   "metadata": {},
   "outputs": [],
   "source": []
  },
  {
   "cell_type": "code",
   "execution_count": null,
   "id": "b1780d1e-eb6c-447c-ad6d-d85ec2f4177d",
   "metadata": {},
   "outputs": [],
   "source": []
  },
  {
   "cell_type": "code",
   "execution_count": 144,
   "id": "24d9a647-62cf-46ad-8081-65d4ea18f59c",
   "metadata": {},
   "outputs": [],
   "source": [
    "train.to_csv(\"../dataset/processed/train.csv\")\n",
    "test.to_csv(\"../dataset/processed/test.csv\")"
   ]
  },
  {
   "cell_type": "code",
   "execution_count": null,
   "id": "cfe34fcd-efa0-4e20-a074-b176b20c0346",
   "metadata": {},
   "outputs": [],
   "source": []
  }
 ],
 "metadata": {
  "kernelspec": {
   "display_name": "Python 3 (ipykernel)",
   "language": "python",
   "name": "python3"
  },
  "language_info": {
   "codemirror_mode": {
    "name": "ipython",
    "version": 3
   },
   "file_extension": ".py",
   "mimetype": "text/x-python",
   "name": "python",
   "nbconvert_exporter": "python",
   "pygments_lexer": "ipython3",
   "version": "3.11.7"
  }
 },
 "nbformat": 4,
 "nbformat_minor": 5
}
