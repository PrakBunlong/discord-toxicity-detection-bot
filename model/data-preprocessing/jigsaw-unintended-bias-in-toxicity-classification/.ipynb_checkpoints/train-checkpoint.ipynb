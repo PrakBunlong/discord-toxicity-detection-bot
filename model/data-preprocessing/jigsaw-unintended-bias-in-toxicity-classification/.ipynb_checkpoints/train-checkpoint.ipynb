{
 "cells": [
  {
   "cell_type": "code",
   "execution_count": null,
   "id": "5d30df26-b33d-4245-a700-d2c29088ced8",
   "metadata": {},
   "outputs": [],
   "source": [
    "import pandas as pd\n",
    "\n",
    "# Load data\n",
    "ds = pd.read_csv('../../dataset/unprocessed/jigsaw-unintended-bias-in-toxicity-classification/train.csv')\n",
    "\n",
    "ds.head(5)"
   ]
  },
  {
   "cell_type": "code",
   "execution_count": null,
   "id": "4237ebc6-3198-4b90-9cf0-14837398f1b1",
   "metadata": {},
   "outputs": [],
   "source": [
    "# currently will create is_toxic column just in case we don't need to check how severe the toxicity is\n",
    "ds[\"is_toxic\"] = ds[\"target\"].apply(lambda x: 1 if x >= 0.5 else 0)\n",
    "ds.shape"
   ]
  },
  {
   "cell_type": "code",
   "execution_count": 5,
   "id": "a8048e23-775b-4dba-a320-9dcf0e9e16a2",
   "metadata": {},
   "outputs": [
    {
     "data": {
      "text/plain": [
       "(1804874, 3)"
      ]
     },
     "execution_count": 5,
     "metadata": {},
     "output_type": "execute_result"
    }
   ],
   "source": [
    "ds = ds.loc[:, [\"id\", \"comment_text\", \"is_toxic\"]]\n",
    "ds.shape"
   ]
  },
  {
   "cell_type": "code",
   "execution_count": 6,
   "id": "f61136f4-89ee-4abe-b4c2-037fa2b29ea4",
   "metadata": {},
   "outputs": [],
   "source": [
    "ds.to_csv(\"../../dataset/processed/jigsaw-unintended-bias-in-toxicity-classification/train.csv\")"
   ]
  },
  {
   "cell_type": "code",
   "execution_count": null,
   "id": "7b0fa9bf-1cc2-4b8d-9a20-f6fce104e3bd",
   "metadata": {},
   "outputs": [],
   "source": []
  }
 ],
 "metadata": {
  "kernelspec": {
   "display_name": "Python 3 (ipykernel)",
   "language": "python",
   "name": "python3"
  },
  "language_info": {
   "codemirror_mode": {
    "name": "ipython",
    "version": 3
   },
   "file_extension": ".py",
   "mimetype": "text/x-python",
   "name": "python",
   "nbconvert_exporter": "python",
   "pygments_lexer": "ipython3",
   "version": "3.11.7"
  }
 },
 "nbformat": 4,
 "nbformat_minor": 5
}
