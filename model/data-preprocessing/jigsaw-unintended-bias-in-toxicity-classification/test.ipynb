{
 "cells": [
  {
   "cell_type": "code",
   "execution_count": 1,
   "id": "77975f72-d1e9-4cb3-8d43-257003195cc4",
   "metadata": {},
   "outputs": [],
   "source": [
    "import pandas as pd"
   ]
  },
  {
   "cell_type": "code",
   "execution_count": 5,
   "id": "78d3eeb2-842d-47ee-b4ea-30ab220c463b",
   "metadata": {},
   "outputs": [
    {
     "data": {
      "text/plain": [
       "<bound method NDFrame.head of             id                                       comment_text\n",
       "0      7097320  [ Integrity means that you pay your debts.]\\n\\...\n",
       "1      7097321  This is malfeasance by the Administrator and t...\n",
       "2      7097322  @Rmiller101 - Spoken like a true elitist. But ...\n",
       "3      7097323  Paul: Thank you for your kind words.  I do, in...\n",
       "4      7097324  Sorry you missed high school. Eisenhower sent ...\n",
       "...        ...                                                ...\n",
       "97315  7194635  He should lose his job for promoting mis-infor...\n",
       "97316  7194636  \"Thinning project is meant to lower fire dange...\n",
       "97317  7194637  I hope you millennials are happy that you put ...\n",
       "97318  7194638  I'm thinking Kellyanne Conway (a.k.a. The Trum...\n",
       "97319  7194639  I still can't figure why a pizza in AK cost mo...\n",
       "\n",
       "[97320 rows x 2 columns]>"
      ]
     },
     "execution_count": 5,
     "metadata": {},
     "output_type": "execute_result"
    }
   ],
   "source": [
    "ds = pd.read_csv(\"../../dataset/unprocessed/jigsaw-unintended-bias-in-toxicity-classification/test.csv\")\n",
    "ds.head"
   ]
  },
  {
   "cell_type": "code",
   "execution_count": null,
   "id": "cb8352bb-49e3-4040-90c6-8db9cddb8ce3",
   "metadata": {},
   "outputs": [],
   "source": []
  }
 ],
 "metadata": {
  "kernelspec": {
   "display_name": "Python 3 (ipykernel)",
   "language": "python",
   "name": "python3"
  },
  "language_info": {
   "codemirror_mode": {
    "name": "ipython",
    "version": 3
   },
   "file_extension": ".py",
   "mimetype": "text/x-python",
   "name": "python",
   "nbconvert_exporter": "python",
   "pygments_lexer": "ipython3",
   "version": "3.11.7"
  }
 },
 "nbformat": 4,
 "nbformat_minor": 5
}
