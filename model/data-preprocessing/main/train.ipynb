{
 "cells": [
  {
   "cell_type": "code",
   "execution_count": null,
   "id": "b448711b-7ce3-43ab-9e17-be654ac49601",
   "metadata": {},
   "outputs": [],
   "source": [
    "import pandas as pd"
   ]
  },
  {
   "cell_type": "code",
   "execution_count": 51,
   "id": "7cc09a84-7736-400d-8a23-dd904b41e7df",
   "metadata": {},
   "outputs": [],
   "source": [
    "train_1 = pd.read_csv(\"../../dataset/processed/jigsaw-toxic-comment-classification-challenge/train.csv\")\n",
    "train_2 = pd.read_csv(\"../../dataset/processed/jigsaw-unintended-bias-in-toxicity-classification/train.csv\")"
   ]
  },
  {
   "cell_type": "code",
   "execution_count": 52,
   "id": "1a1b5ae4-114f-4207-9817-7979a804b30e",
   "metadata": {},
   "outputs": [],
   "source": [
    "test_1 = pd.read_csv(\"../../dataset/processed/jigsaw-toxic-comment-classification-challenge/test.csv\")\n",
    "test_2 = pd.read_csv(\"../../dataset/processed/jigsaw-unintended-bias-in-toxicity-classification/test.csv\")"
   ]
  },
  {
   "cell_type": "code",
   "execution_count": 53,
   "id": "c761cf5d-4b16-4a43-a154-55c76f947e47",
   "metadata": {},
   "outputs": [
    {
     "data": {
      "text/plain": [
       "(159571, 4)"
      ]
     },
     "execution_count": 53,
     "metadata": {},
     "output_type": "execute_result"
    }
   ],
   "source": [
    "train_1.shape"
   ]
  },
  {
   "cell_type": "code",
   "execution_count": 54,
   "id": "a82e2f40-4a48-4298-bd5f-4a0728071b5a",
   "metadata": {},
   "outputs": [
    {
     "data": {
      "text/plain": [
       "(1804874, 4)"
      ]
     },
     "execution_count": 54,
     "metadata": {},
     "output_type": "execute_result"
    }
   ],
   "source": [
    "train_2.shape"
   ]
  },
  {
   "cell_type": "code",
   "execution_count": 55,
   "id": "abf3a2c8-6aa1-405a-a864-bff31e3cdaa7",
   "metadata": {},
   "outputs": [
    {
     "data": {
      "text/plain": [
       "(153164, 3)"
      ]
     },
     "execution_count": 55,
     "metadata": {},
     "output_type": "execute_result"
    }
   ],
   "source": [
    "test_1.shape"
   ]
  },
  {
   "cell_type": "code",
   "execution_count": 56,
   "id": "391dd0db-8727-4b40-8d27-dcdd16292c95",
   "metadata": {},
   "outputs": [
    {
     "data": {
      "text/plain": [
       "(97320, 3)"
      ]
     },
     "execution_count": 56,
     "metadata": {},
     "output_type": "execute_result"
    }
   ],
   "source": [
    "test_2.shape"
   ]
  },
  {
   "cell_type": "markdown",
   "id": "e36640e9-5b7f-4a36-95c4-ccd35deb47be",
   "metadata": {},
   "source": [
    "### Add train_2 to train_1, test_2 to test_1, and ignore duplicate data"
   ]
  },
  {
   "cell_type": "code",
   "execution_count": 57,
   "id": "ed12d3cc-f1fd-4b9e-b404-bd2f36c8fca1",
   "metadata": {},
   "outputs": [],
   "source": [
    "def merge(ds1, ds2):\n",
    "    # Create a set of all unique comment_texts in ds2\n",
    "    ds2_comments_set = set(ds2[\"comment_text\"].str.strip())\n",
    "    \n",
    "    # Create a boolean mask for rows in ds2 that should be added to ds1\n",
    "    mask = ~ds2[\"comment_text\"].str.strip().isin(ds1[\"comment_text\"].str.strip())\n",
    "    \n",
    "    # Filter rows from ds2 that are not in ds1\n",
    "    rows_to_add = ds2[mask]\n",
    "    \n",
    "    # Concatenate the rows_to_add to ds1\n",
    "    ds1 = pd.concat([rows_to_add, ds1], ignore_index=True)\n",
    "    \n",
    "    return ds1"
   ]
  },
  {
   "cell_type": "code",
   "execution_count": 61,
   "id": "a5a9ccf4-4469-4ea0-b915-b75da8e3b735",
   "metadata": {},
   "outputs": [
    {
     "data": {
      "text/plain": [
       "(1964294, 4)"
      ]
     },
     "execution_count": 61,
     "metadata": {},
     "output_type": "execute_result"
    }
   ],
   "source": [
    "train_1 = merge(train_1, train_2)\n",
    "train_1.shape"
   ]
  },
  {
   "cell_type": "code",
   "execution_count": 62,
   "id": "f06ae868-c6d9-4dea-9d68-0fd1dbd74bec",
   "metadata": {},
   "outputs": [
    {
     "data": {
      "text/plain": [
       "(250441, 3)"
      ]
     },
     "execution_count": 62,
     "metadata": {},
     "output_type": "execute_result"
    }
   ],
   "source": [
    "test_1 = merge(test_1, test_2)\n",
    "test_1.shape"
   ]
  },
  {
   "cell_type": "code",
   "execution_count": 64,
   "id": "24d9a647-62cf-46ad-8081-65d4ea18f59c",
   "metadata": {},
   "outputs": [],
   "source": [
    "train_1.to_csv(\"../../dataset/processed/main/train.csv\")\n",
    "test_1.to_csv(\"../../dataset/processed/main/test.csv\")"
   ]
  },
  {
   "cell_type": "code",
   "execution_count": null,
   "id": "03e0006e-e8ac-4e83-bfd1-005f532f40bd",
   "metadata": {},
   "outputs": [],
   "source": []
  }
 ],
 "metadata": {
  "kernelspec": {
   "display_name": "Python 3 (ipykernel)",
   "language": "python",
   "name": "python3"
  },
  "language_info": {
   "codemirror_mode": {
    "name": "ipython",
    "version": 3
   },
   "file_extension": ".py",
   "mimetype": "text/x-python",
   "name": "python",
   "nbconvert_exporter": "python",
   "pygments_lexer": "ipython3",
   "version": "3.11.7"
  }
 },
 "nbformat": 4,
 "nbformat_minor": 5
}
