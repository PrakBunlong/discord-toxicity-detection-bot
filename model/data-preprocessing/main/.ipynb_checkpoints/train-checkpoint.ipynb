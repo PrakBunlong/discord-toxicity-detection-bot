{
 "cells": [
  {
   "cell_type": "code",
   "execution_count": null,
   "id": "b448711b-7ce3-43ab-9e17-be654ac49601",
   "metadata": {},
   "outputs": [],
   "source": [
    "import pandas as pd"
   ]
  },
  {
   "cell_type": "code",
   "execution_count": null,
   "id": "7cc09a84-7736-400d-8a23-dd904b41e7df",
   "metadata": {},
   "outputs": [],
   "source": [
    "train_1 = pd.read_csv(\"../../dataset/processed/jigsaw-toxic-comment-classification-challenge/train.csv\")\n",
    "train_2 = pd.read_csv(\"../../dataset/processed/jigsaw-unintended-bias-in-toxicity-classification/train.csv\")"
   ]
  },
  {
   "cell_type": "code",
   "execution_count": null,
   "id": "1a1b5ae4-114f-4207-9817-7979a804b30e",
   "metadata": {},
   "outputs": [],
   "source": [
    "test_1 = pd.read_csv(\"../../dataset/processed/jigsaw-toxic-comment-classification-challenge/test.csv\")\n",
    "test_2 = pd.read_csv(\"../../dataset/processed/jigsaw-unintended-bias-in-toxicity-classification/test.csv\")"
   ]
  },
  {
   "cell_type": "code",
   "execution_count": null,
   "id": "c761cf5d-4b16-4a43-a154-55c76f947e47",
   "metadata": {},
   "outputs": [],
   "source": [
    "train_1.shape"
   ]
  },
  {
   "cell_type": "code",
   "execution_count": null,
   "id": "a82e2f40-4a48-4298-bd5f-4a0728071b5a",
   "metadata": {},
   "outputs": [],
   "source": [
    "train_2.shape"
   ]
  },
  {
   "cell_type": "code",
   "execution_count": null,
   "id": "abf3a2c8-6aa1-405a-a864-bff31e3cdaa7",
   "metadata": {},
   "outputs": [],
   "source": [
    "test_1.shape"
   ]
  },
  {
   "cell_type": "code",
   "execution_count": null,
   "id": "391dd0db-8727-4b40-8d27-dcdd16292c95",
   "metadata": {},
   "outputs": [],
   "source": [
    "test_2.shape"
   ]
  },
  {
   "cell_type": "markdown",
   "id": "e36640e9-5b7f-4a36-95c4-ccd35deb47be",
   "metadata": {},
   "source": [
    "### Add train_2 to train_1, test_2 to test_1, and ignore duplicate data"
   ]
  },
  {
   "cell_type": "code",
   "execution_count": null,
   "id": "ed12d3cc-f1fd-4b9e-b404-bd2f36c8fca1",
   "metadata": {},
   "outputs": [],
   "source": [
    "def merge_train(train_1, train_2):\n",
    "    for index, row in train_2.iterrows():\n",
    "        print(row['id'])"
   ]
  },
  {
   "cell_type": "code",
   "execution_count": null,
   "id": "a5a9ccf4-4469-4ea0-b915-b75da8e3b735",
   "metadata": {},
   "outputs": [],
   "source": [
    "merge_train(train_1, train_2)"
   ]
  },
  {
   "cell_type": "code",
   "execution_count": null,
   "id": "f06ae868-c6d9-4dea-9d68-0fd1dbd74bec",
   "metadata": {},
   "outputs": [],
   "source": []
  }
 ],
 "metadata": {
  "kernelspec": {
   "display_name": "Python 3 (ipykernel)",
   "language": "python",
   "name": "python3"
  },
  "language_info": {
   "codemirror_mode": {
    "name": "ipython",
    "version": 3
   },
   "file_extension": ".py",
   "mimetype": "text/x-python",
   "name": "python",
   "nbconvert_exporter": "python",
   "pygments_lexer": "ipython3",
   "version": "3.11.7"
  }
 },
 "nbformat": 4,
 "nbformat_minor": 5
}
